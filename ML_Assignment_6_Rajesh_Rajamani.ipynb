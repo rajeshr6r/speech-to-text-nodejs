{
 "cells": [
  {
   "cell_type": "markdown",
   "metadata": {},
   "source": [
    "### Find the best Reduction algorithm for the given dataset among PCM, SVD and LDA"
   ]
  },
  {
   "cell_type": "code",
   "execution_count": 2,
   "metadata": {},
   "outputs": [],
   "source": [
    "# Some Presets\n",
    "%matplotlib inline\n",
    "\n",
    "#imports\n",
    "import pandas as pd\n",
    "import matplotlib.pyplot as plt\n",
    "import numpy as np\n",
    "import os\n",
    "\n",
    "# Make the graphs a bit prettier, and bigger\n",
    "plt.rcParams['figure.figsize'] = (15, 5)\n",
    "plt.rcParams['font.family'] = 'sans-serif'\n",
    "\n",
    "# This is necessary to show lots of columns in pandas 0.12. \n",
    "# Not necessary in pandas 0.13.\n",
    "pd.set_option('display.width', 5000) \n",
    "pd.set_option('display.max_columns', 60)"
   ]
  },
  {
   "cell_type": "code",
   "execution_count": 3,
   "metadata": {},
   "outputs": [],
   "source": [
    "#SkLearn Library Imports \n",
    "from sklearn.decomposition import PCA,TruncatedSVD,IncrementalPCA\n",
    "from sklearn.discriminant_analysis import LinearDiscriminantAnalysis\n",
    "from sklearn.preprocessing import LabelEncoder,StandardScaler\n",
    "from sklearn.feature_extraction.text import CountVectorizer,TfidfVectorizer"
   ]
  },
  {
   "cell_type": "code",
   "execution_count": 4,
   "metadata": {},
   "outputs": [],
   "source": [
    "#Initializers\n",
    "le=LabelEncoder()\n",
    "cv = CountVectorizer(stop_words='english',max_features=6000,ngram_range=(1,1))\n",
    "tf = TfidfVectorizer(stop_words='english',max_features=6000,ngram_range=(1,1))"
   ]
  },
  {
   "cell_type": "code",
   "execution_count": 5,
   "metadata": {},
   "outputs": [],
   "source": [
    "#set working directory\n",
    "os.chdir(os.path.join('D:\\Python\\Jazari_AI_Lessons\\DataSets\\ML_Assignment_6'))"
   ]
  },
  {
   "cell_type": "code",
   "execution_count": 6,
   "metadata": {},
   "outputs": [],
   "source": [
    "#import data\n",
    "data=pd.read_csv(os.path.join('./wine_reviews.csv'))"
   ]
  },
  {
   "cell_type": "code",
   "execution_count": 7,
   "metadata": {},
   "outputs": [
    {
     "name": "stdout",
     "output_type": "stream",
     "text": [
      "Shape of Data (129971, 14)\n"
     ]
    }
   ],
   "source": [
    "#checking data \n",
    "print(\"Shape of Data\",data.shape)"
   ]
  },
  {
   "cell_type": "code",
   "execution_count": 8,
   "metadata": {},
   "outputs": [],
   "source": [
    "#Drop unwanted columns\n",
    "data=data.drop('Unnamed: 0',axis=1)"
   ]
  },
  {
   "cell_type": "code",
   "execution_count": 9,
   "metadata": {},
   "outputs": [
    {
     "data": {
      "text/plain": [
       "country                     63\n",
       "description                  0\n",
       "designation              37465\n",
       "points                       0\n",
       "price                     8996\n",
       "province                    63\n",
       "region_1                 21247\n",
       "region_2                 79460\n",
       "taster_name              26244\n",
       "taster_twitter_handle    31213\n",
       "title                        0\n",
       "variety                      1\n",
       "winery                       0\n",
       "dtype: int64"
      ]
     },
     "execution_count": 9,
     "metadata": {},
     "output_type": "execute_result"
    }
   ],
   "source": [
    "#na values\n",
    "data.isna().sum()"
   ]
  },
  {
   "cell_type": "code",
   "execution_count": 10,
   "metadata": {},
   "outputs": [],
   "source": [
    "#Data Cleanup - Filling up Nas - Straight Forward columns\n",
    "data['country']=data['country'].fillna('No_country')\n",
    "data['designation']=data['designation'].fillna('No_designation')              \n",
    "data['province']=data['province'].fillna('No_province')              \n",
    "data['region_1']=data['region_1'].fillna('No_region_1')\n",
    "data['region_2']=data['region_2'].fillna('No_region_2')\n",
    "data['taster_name']=data['taster_name'].fillna('No_taster_name')\n",
    "data['taster_twitter_handle']=data['taster_twitter_handle'].fillna('No_tasteer_twitter_handle')\n",
    "data['variety']=data['variety'].fillna('No_variety')"
   ]
  },
  {
   "cell_type": "code",
   "execution_count": 11,
   "metadata": {},
   "outputs": [],
   "source": [
    "#Basic Categorical Preprocessing for Straight Forward fields\n",
    "#Note : Before using Label encoder please fill na values and then start \n",
    "data['country_code']=le.fit_transform(data['country'])\n",
    "data['designation_code']=le.fit_transform(data['designation'])\n",
    "data['province_code']=le.fit_transform(data['province'])\n",
    "data['region_1_code']=le.fit_transform(data['region_1'])\n",
    "data['region_2_code']=le.fit_transform(data['region_2'])\n",
    "data['taster_name_code']=le.fit_transform(data['taster_name'])\n",
    "data['taster_twitter_handle_code']=le.fit_transform(data['taster_twitter_handle'])\n",
    "data['variety_code']=le.fit_transform(data['variety'])"
   ]
  },
  {
   "cell_type": "code",
   "execution_count": 12,
   "metadata": {},
   "outputs": [
    {
     "data": {
      "text/plain": [
       "country\n",
       "Argentina    24.510117\n",
       "Name: price, dtype: float64"
      ]
     },
     "execution_count": 12,
     "metadata": {},
     "output_type": "execute_result"
    }
   ],
   "source": [
    "#\n",
    "data[data['country']=='Argentina'].groupby('country').price.agg('mean')"
   ]
  },
  {
   "cell_type": "code",
   "execution_count": 13,
   "metadata": {},
   "outputs": [
    {
     "data": {
      "text/html": [
       "<div>\n",
       "<style scoped>\n",
       "    .dataframe tbody tr th:only-of-type {\n",
       "        vertical-align: middle;\n",
       "    }\n",
       "\n",
       "    .dataframe tbody tr th {\n",
       "        vertical-align: top;\n",
       "    }\n",
       "\n",
       "    .dataframe thead th {\n",
       "        text-align: right;\n",
       "    }\n",
       "</style>\n",
       "<table border=\"1\" class=\"dataframe\">\n",
       "  <thead>\n",
       "    <tr style=\"text-align: right;\">\n",
       "      <th></th>\n",
       "      <th>country</th>\n",
       "      <th>country_code</th>\n",
       "    </tr>\n",
       "  </thead>\n",
       "  <tbody>\n",
       "    <tr>\n",
       "      <th>0</th>\n",
       "      <td>Italy</td>\n",
       "      <td>22</td>\n",
       "    </tr>\n",
       "    <tr>\n",
       "      <th>1</th>\n",
       "      <td>Portugal</td>\n",
       "      <td>32</td>\n",
       "    </tr>\n",
       "    <tr>\n",
       "      <th>2</th>\n",
       "      <td>US</td>\n",
       "      <td>41</td>\n",
       "    </tr>\n",
       "    <tr>\n",
       "      <th>3</th>\n",
       "      <td>US</td>\n",
       "      <td>41</td>\n",
       "    </tr>\n",
       "    <tr>\n",
       "      <th>4</th>\n",
       "      <td>US</td>\n",
       "      <td>41</td>\n",
       "    </tr>\n",
       "  </tbody>\n",
       "</table>\n",
       "</div>"
      ],
      "text/plain": [
       "    country  country_code\n",
       "0     Italy            22\n",
       "1  Portugal            32\n",
       "2        US            41\n",
       "3        US            41\n",
       "4        US            41"
      ]
     },
     "execution_count": 13,
     "metadata": {},
     "output_type": "execute_result"
    }
   ],
   "source": [
    "data[['country','country_code']].head()"
   ]
  },
  {
   "cell_type": "code",
   "execution_count": 14,
   "metadata": {},
   "outputs": [],
   "source": [
    "data_train=data.drop(['country','designation','province','region_1','region_2','taster_name','taster_twitter_handle','title','variety','winery'],axis=1)"
   ]
  },
  {
   "cell_type": "code",
   "execution_count": 15,
   "metadata": {},
   "outputs": [],
   "source": [
    "description_cv_vector=cv.fit_transform(data_train['description'])"
   ]
  },
  {
   "cell_type": "code",
   "execution_count": 16,
   "metadata": {},
   "outputs": [],
   "source": [
    "description_tf_vector=tf.fit_transform(data_train['description'])"
   ]
  },
  {
   "cell_type": "code",
   "execution_count": 17,
   "metadata": {},
   "outputs": [
    {
     "name": "stdout",
     "output_type": "stream",
     "text": [
      "Shape of Count Vectorized Descriptions  (129971, 6000)\n",
      "Shape of TfIDF Vectorized Descriptions  (129971, 6000)\n"
     ]
    }
   ],
   "source": [
    "print(\"Shape of Count Vectorized Descriptions \",description_cv_vector.shape)\n",
    "print(\"Shape of TfIDF Vectorized Descriptions \",description_tf_vector.shape)"
   ]
  },
  {
   "cell_type": "code",
   "execution_count": 23,
   "metadata": {},
   "outputs": [
    {
     "data": {
      "text/html": [
       "<div>\n",
       "<style scoped>\n",
       "    .dataframe tbody tr th:only-of-type {\n",
       "        vertical-align: middle;\n",
       "    }\n",
       "\n",
       "    .dataframe tbody tr th {\n",
       "        vertical-align: top;\n",
       "    }\n",
       "\n",
       "    .dataframe thead th {\n",
       "        text-align: right;\n",
       "    }\n",
       "</style>\n",
       "<table border=\"1\" class=\"dataframe\">\n",
       "  <thead>\n",
       "    <tr style=\"text-align: right;\">\n",
       "      <th></th>\n",
       "      <th>country</th>\n",
       "      <th>description</th>\n",
       "      <th>designation</th>\n",
       "      <th>points</th>\n",
       "      <th>price</th>\n",
       "      <th>province</th>\n",
       "      <th>region_1</th>\n",
       "      <th>region_2</th>\n",
       "      <th>taster_name</th>\n",
       "      <th>taster_twitter_handle</th>\n",
       "      <th>title</th>\n",
       "      <th>variety</th>\n",
       "      <th>winery</th>\n",
       "      <th>country_code</th>\n",
       "      <th>designation_code</th>\n",
       "      <th>province_code</th>\n",
       "      <th>region_1_code</th>\n",
       "      <th>region_2_code</th>\n",
       "      <th>taster_name_code</th>\n",
       "      <th>taster_twitter_handle_code</th>\n",
       "      <th>variety_code</th>\n",
       "    </tr>\n",
       "  </thead>\n",
       "  <tbody>\n",
       "  </tbody>\n",
       "</table>\n",
       "</div>"
      ],
      "text/plain": [
       "Empty DataFrame\n",
       "Columns: [country, description, designation, points, price, province, region_1, region_2, taster_name, taster_twitter_handle, title, variety, winery, country_code, designation_code, province_code, region_1_code, region_2_code, taster_name_code, taster_twitter_handle_code, variety_code]\n",
       "Index: []"
      ]
     },
     "execution_count": 23,
     "metadata": {},
     "output_type": "execute_result"
    }
   ],
   "source": [
    "data[data['points'].isna()==True].head()"
   ]
  },
  {
   "cell_type": "code",
   "execution_count": null,
   "metadata": {},
   "outputs": [],
   "source": [
    "#Declaring PCA\n",
    "inc_pca=PCA(n_components=5400,random_state=42) # Keeping it to 90% of the max_features\n",
    "inc_pca.fit(X)\n",
    "print(\"Explained Variance Ratio for PCA :\",np.sum(inc_pca.explained_variance_ratio_))\n",
    "#Declaring LDA\n",
    "LDA_clf=LinearDiscriminantAnalysis()\n",
    "LDA_clf.fit(X,)\n",
    "print(\"Explained Variance Ratio of LDA :\",np.sum(LDA_clf.explained_variance_ratio_))\n",
    "#Declaring SVD\n",
    "SVD_clf=TruncatedSVD()\n",
    "#fit the training data\n",
    "SVD_clf.fit(X,data['points']) # using data points as a target variable \n",
    "print(\"Explained Variance Ratio of SVD :\",np.sum(SVD_clf.explained_variance_ratio_))\n"
   ]
  }
 ],
 "metadata": {
  "kernelspec": {
   "display_name": "Python 3",
   "language": "python",
   "name": "python3"
  },
  "language_info": {
   "codemirror_mode": {
    "name": "ipython",
    "version": 3
   },
   "file_extension": ".py",
   "mimetype": "text/x-python",
   "name": "python",
   "nbconvert_exporter": "python",
   "pygments_lexer": "ipython3",
   "version": "3.6.0"
  }
 },
 "nbformat": 4,
 "nbformat_minor": 2
}
